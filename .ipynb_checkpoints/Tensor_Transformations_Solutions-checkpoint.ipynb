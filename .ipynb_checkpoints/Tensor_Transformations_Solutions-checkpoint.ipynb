{
 "cells": [
  {
   "cell_type": "markdown",
   "metadata": {},
   "source": [
    "# Tensor Transformations"
   ]
  },
  {
   "cell_type": "code",
   "execution_count": 1,
   "metadata": {
    "collapsed": true
   },
   "outputs": [],
   "source": [
    "import tensorflow as tf\n",
    "import numpy as np"
   ]
  },
  {
   "cell_type": "code",
   "execution_count": 128,
   "metadata": {
    "collapsed": false
   },
   "outputs": [
    {
     "data": {
      "text/plain": [
       "'0.10.0'"
      ]
     },
     "execution_count": 128,
     "metadata": {},
     "output_type": "execute_result"
    }
   ],
   "source": [
    "tf.__version__"
   ]
  },
  {
   "cell_type": "code",
   "execution_count": 129,
   "metadata": {
    "collapsed": false
   },
   "outputs": [
    {
     "data": {
      "text/plain": [
       "'1.11.1'"
      ]
     },
     "execution_count": 129,
     "metadata": {},
     "output_type": "execute_result"
    }
   ],
   "source": [
    "np.__version__"
   ]
  },
  {
   "cell_type": "code",
   "execution_count": 2,
   "metadata": {
    "collapsed": true
   },
   "outputs": [],
   "source": [
    "sess = tf.InteractiveSession()"
   ]
  },
  {
   "cell_type": "markdown",
   "metadata": {},
   "source": [
    "Q1. Let x be a tensor of [[\"1.1\", \"2.2\"], [\"3.3\", \"4.4\"]]. Convert the datatype of x to float32."
   ]
  },
  {
   "cell_type": "code",
   "execution_count": 7,
   "metadata": {
    "collapsed": false
   },
   "outputs": [
    {
     "name": "stdout",
     "output_type": "stream",
     "text": [
      "[[ 1.10000002  2.20000005]\n",
      " [ 3.29999995  4.4000001 ]]\n"
     ]
    }
   ],
   "source": [
    "arr = np.array([[\"1.1\", \"2.2\"], [\"3.3\", \"4.4\"]])\n",
    "x = tf.constant(arr)\n",
    "out = tf.string_to_number(x)\n",
    "print out.eval()\n",
    "assert np.allclose(out.eval(), arr.astype(np.float32))\n"
   ]
  },
  {
   "cell_type": "markdown",
   "metadata": {},
   "source": [
    "Q2. Let x be a tensor [[1, 2], [3, 4]] of int32. Convert the data type of x to float64."
   ]
  },
  {
   "cell_type": "code",
   "execution_count": 11,
   "metadata": {
    "collapsed": false
   },
   "outputs": [
    {
     "name": "stdout",
     "output_type": "stream",
     "text": [
      "[[ 1.  2.]\n",
      " [ 3.  4.]]\n"
     ]
    }
   ],
   "source": [
    "arr = np.array([[1, 2], [3, 4]], dtype=np.int32)\n",
    "x = tf.constant(arr)\n",
    "out1 = tf.to_double(x)\n",
    "out2 = tf.cast(x, tf.float64)\n",
    "assert np.allclose(out1.eval(), out2.eval())\n",
    "print out1.eval()\n",
    "assert np.allclose(out1.eval(), arr.astype(np.float64))"
   ]
  },
  {
   "cell_type": "markdown",
   "metadata": {},
   "source": [
    "Q3. Let x be a tensor [[1, 2], [3, 4]] of int32. Convert the data type of x to float32."
   ]
  },
  {
   "cell_type": "code",
   "execution_count": 12,
   "metadata": {
    "collapsed": false
   },
   "outputs": [
    {
     "name": "stdout",
     "output_type": "stream",
     "text": [
      "[[ 1.  2.]\n",
      " [ 3.  4.]]\n"
     ]
    }
   ],
   "source": [
    "arr = np.array([[1, 2], [3, 4]], dtype=np.int32)\n",
    "x = tf.constant(arr)\n",
    "out1 = tf.to_float(x)\n",
    "out2 = tf.cast(x, tf.float32)\n",
    "assert np.allclose(out1.eval(), out2.eval())\n",
    "print out1.eval()\n",
    "assert np.allclose(out1.eval(), arr.astype(np.float32))"
   ]
  },
  {
   "cell_type": "markdown",
   "metadata": {},
   "source": [
    "Q4. Let x be a tensor [[1, 2], [3, 4]] of float32. Convert the data type of x to int32."
   ]
  },
  {
   "cell_type": "code",
   "execution_count": 13,
   "metadata": {
    "collapsed": false
   },
   "outputs": [
    {
     "name": "stdout",
     "output_type": "stream",
     "text": [
      "[[1 2]\n",
      " [3 4]]\n"
     ]
    }
   ],
   "source": [
    "arr = np.array([[1, 2], [3, 4]], dtype=np.float32)\n",
    "x = tf.constant(arr)\n",
    "out1 = tf.to_int32(x)\n",
    "out2 = tf.cast(x, tf.int32)\n",
    "assert np.allclose(out1.eval(), out2.eval())\n",
    "print out1.eval()\n",
    "assert np.allclose(out1.eval(), arr.astype(np.int32))"
   ]
  },
  {
   "cell_type": "markdown",
   "metadata": {},
   "source": [
    "Q5. Let x be a tensor [[1, 2], [3, 4]] of float32. Convert the data type of x to int64."
   ]
  },
  {
   "cell_type": "code",
   "execution_count": 14,
   "metadata": {
    "collapsed": false
   },
   "outputs": [
    {
     "name": "stdout",
     "output_type": "stream",
     "text": [
      "[[1 2]\n",
      " [3 4]]\n"
     ]
    }
   ],
   "source": [
    "arr = np.array([[1, 2], [3, 4]], dtype=np.float32)\n",
    "x = tf.constant(arr)\n",
    "out1 = tf.to_int64(x)\n",
    "out2 = tf.cast(x, tf.int64)\n",
    "assert np.allclose(out1.eval(), out2.eval())\n",
    "print out1.eval()\n",
    "assert np.allclose(out1.eval(), arr.astype(np.int64))"
   ]
  },
  {
   "cell_type": "markdown",
   "metadata": {},
   "source": [
    "Q6. Let x be a tensor of [[[1, 2], [3, 4]], [[5, 6], [7, 8]], [[9, 10], [11, 12]]]. Create the tensor representing the shape of x."
   ]
  },
  {
   "cell_type": "code",
   "execution_count": 18,
   "metadata": {
    "collapsed": false
   },
   "outputs": [
    {
     "name": "stdout",
     "output_type": "stream",
     "text": [
      "[3 2 2]\n"
     ]
    }
   ],
   "source": [
    "arr = np.array([[[1, 2], [3, 4]], [[5, 6], [7, 8]], [[9, 10], [11, 12]]])\n",
    "x = tf.constant(arr)\n",
    "out = tf.shape(x) \n",
    "print out.eval()\n",
    "assert np.allclose(out.eval(), arr.shape)"
   ]
  },
  {
   "cell_type": "markdown",
   "metadata": {},
   "source": [
    "Q7. Let x be a tensor of [[[1, 2], [3, 4]], [[5, 6], [7, 8]], [[9, 10], [11, 12]]]) and y be a tensor [10, 20]. Create a list of tensors representing the shape of X and Y."
   ]
  },
  {
   "cell_type": "code",
   "execution_count": 22,
   "metadata": {
    "collapsed": false
   },
   "outputs": [
    {
     "name": "stdout",
     "output_type": "stream",
     "text": [
      "[3 2 2] [2]\n"
     ]
    }
   ],
   "source": [
    "x = tf.constant([[[1, 2], [3, 4]], [[5, 6], [7, 8]], [[9, 10], [11, 12]]])\n",
    "y = tf.constant([10, 20])\n",
    "out_x, out_y = tf.shape_n([x, y]) \n",
    "print out_x.eval(), out_y.eval()"
   ]
  },
  {
   "cell_type": "markdown",
   "metadata": {},
   "source": [
    "Q8. Let x be a tensor of [[[1, 2], [3, 4]], [[5, 6], [7, 8]], [[9, 10], [11, 12]]]. Create a tensor representing the size (=total number of elements) of x."
   ]
  },
  {
   "cell_type": "code",
   "execution_count": 24,
   "metadata": {
    "collapsed": false
   },
   "outputs": [
    {
     "name": "stdout",
     "output_type": "stream",
     "text": [
      "12\n"
     ]
    }
   ],
   "source": [
    "arr = np.array([[[1, 2], [3, 4]], [[5, 6], [7, 8]], [[9, 10], [11, 12]]])\n",
    "x = tf.constant(arr)\n",
    "out = tf.size(x)\n",
    "print out.eval()\n",
    "assert out.eval() == arr.size"
   ]
  },
  {
   "cell_type": "markdown",
   "metadata": {},
   "source": [
    "Q9. Let x be a tensor of [[[1, 2], [3, 4]], [[5, 6], [7, 8]], [[9, 10], [11, 12]]]. Create a tensor representing the rank (=number of dimensions) of x."
   ]
  },
  {
   "cell_type": "code",
   "execution_count": 27,
   "metadata": {
    "collapsed": false
   },
   "outputs": [
    {
     "name": "stdout",
     "output_type": "stream",
     "text": [
      "3\n"
     ]
    }
   ],
   "source": [
    "arr = np.array([[[1, 2], [3, 4]], [[5, 6], [7, 8]], [[9, 10], [11, 12]]])\n",
    "x = tf.constant(arr)\n",
    "out = tf.rank(x)\n",
    "print out.eval()\n",
    "assert out.eval() == arr.ndim"
   ]
  },
  {
   "cell_type": "markdown",
   "metadata": {},
   "source": [
    "Q10. Let x be tf.ones([10, 10, 3]). Reshape x so that the size of the second dimension equals 150."
   ]
  },
  {
   "cell_type": "code",
   "execution_count": 30,
   "metadata": {
    "collapsed": false
   },
   "outputs": [
    {
     "name": "stdout",
     "output_type": "stream",
     "text": [
      "[[ 1.  1.  1.  1.  1.  1.  1.  1.  1.  1.  1.  1.  1.  1.  1.  1.  1.  1.\n",
      "   1.  1.  1.  1.  1.  1.  1.  1.  1.  1.  1.  1.  1.  1.  1.  1.  1.  1.\n",
      "   1.  1.  1.  1.  1.  1.  1.  1.  1.  1.  1.  1.  1.  1.  1.  1.  1.  1.\n",
      "   1.  1.  1.  1.  1.  1.  1.  1.  1.  1.  1.  1.  1.  1.  1.  1.  1.  1.\n",
      "   1.  1.  1.  1.  1.  1.  1.  1.  1.  1.  1.  1.  1.  1.  1.  1.  1.  1.\n",
      "   1.  1.  1.  1.  1.  1.  1.  1.  1.  1.  1.  1.  1.  1.  1.  1.  1.  1.\n",
      "   1.  1.  1.  1.  1.  1.  1.  1.  1.  1.  1.  1.  1.  1.  1.  1.  1.  1.\n",
      "   1.  1.  1.  1.  1.  1.  1.  1.  1.  1.  1.  1.  1.  1.  1.  1.  1.  1.\n",
      "   1.  1.  1.  1.  1.  1.]\n",
      " [ 1.  1.  1.  1.  1.  1.  1.  1.  1.  1.  1.  1.  1.  1.  1.  1.  1.  1.\n",
      "   1.  1.  1.  1.  1.  1.  1.  1.  1.  1.  1.  1.  1.  1.  1.  1.  1.  1.\n",
      "   1.  1.  1.  1.  1.  1.  1.  1.  1.  1.  1.  1.  1.  1.  1.  1.  1.  1.\n",
      "   1.  1.  1.  1.  1.  1.  1.  1.  1.  1.  1.  1.  1.  1.  1.  1.  1.  1.\n",
      "   1.  1.  1.  1.  1.  1.  1.  1.  1.  1.  1.  1.  1.  1.  1.  1.  1.  1.\n",
      "   1.  1.  1.  1.  1.  1.  1.  1.  1.  1.  1.  1.  1.  1.  1.  1.  1.  1.\n",
      "   1.  1.  1.  1.  1.  1.  1.  1.  1.  1.  1.  1.  1.  1.  1.  1.  1.  1.\n",
      "   1.  1.  1.  1.  1.  1.  1.  1.  1.  1.  1.  1.  1.  1.  1.  1.  1.  1.\n",
      "   1.  1.  1.  1.  1.  1.]]\n"
     ]
    }
   ],
   "source": [
    "x = tf.ones([10, 10, 3])\n",
    "out = tf.reshape(x, [-1, 150])\n",
    "print out.eval()\n",
    "assert np.allclose(out.eval(), np.reshape(np.ones([10, 10, 3]), [-1, 150]))"
   ]
  },
  {
   "cell_type": "markdown",
   "metadata": {},
   "source": [
    "Q11. Let x be tf.ones([10, 10, 1, 1]). Remove all the dimensions of size 1 in x."
   ]
  },
  {
   "cell_type": "code",
   "execution_count": 37,
   "metadata": {
    "collapsed": false
   },
   "outputs": [
    {
     "name": "stdout",
     "output_type": "stream",
     "text": [
      "(10, 10)\n"
     ]
    }
   ],
   "source": [
    "x = tf.ones([10, 10, 1, 1])\n",
    "out = tf.squeeze(x)\n",
    "print out.eval().shape\n",
    "assert np.allclose(out.eval(), np.squeeze(np.ones([10, 10, 1, 1])))"
   ]
  },
  {
   "cell_type": "markdown",
   "metadata": {},
   "source": [
    "Q12. Let X be tf.ones([10, 10, 1, 1]). Remove only the third dimension in x."
   ]
  },
  {
   "cell_type": "code",
   "execution_count": 38,
   "metadata": {
    "collapsed": false
   },
   "outputs": [
    {
     "name": "stdout",
     "output_type": "stream",
     "text": [
      "(10, 10, 1)\n"
     ]
    }
   ],
   "source": [
    "x = tf.ones([10, 10, 1, 1])\n",
    "out = tf.squeeze(x, [2])\n",
    "print out.eval().shape\n",
    "assert np.allclose(out.eval(), np.squeeze(np.ones([10, 10, 1, 1]), 2))"
   ]
  },
  {
   "cell_type": "markdown",
   "metadata": {},
   "source": [
    "Q13. Let x be tf.ones([10, 10]). Add a dimension of 1 at the end of x."
   ]
  },
  {
   "cell_type": "code",
   "execution_count": 40,
   "metadata": {
    "collapsed": false
   },
   "outputs": [
    {
     "name": "stdout",
     "output_type": "stream",
     "text": [
      "(10, 10, 1)\n"
     ]
    }
   ],
   "source": [
    "x = tf.ones([10, 10])\n",
    "out = tf.expand_dims(x, -1)\n",
    "print out.eval().shape\n",
    "assert np.allclose(out.eval(), np.expand_dims(np.ones([10, 10]), -1))"
   ]
  },
  {
   "cell_type": "markdown",
   "metadata": {},
   "source": [
    "Q14. Let x be a tensor<br/>\n",
    "[[[1, 1, 1], [2, 2, 2]],<br/>\n",
    "[[3, 3, 3], [4, 4, 4]],<br/>\n",
    "[[5, 5, 5], [6, 6, 6]]].<br/>\n",
    "Extract the [[3, 3, 3], [4, 4, 4]] from x."
   ]
  },
  {
   "cell_type": "code",
   "execution_count": 44,
   "metadata": {
    "collapsed": false
   },
   "outputs": [
    {
     "name": "stdout",
     "output_type": "stream",
     "text": [
      "[[[3 3 3]\n",
      "  [4 4 4]]]\n"
     ]
    }
   ],
   "source": [
    "arr = np.array([[[1, 1, 1], \n",
    "                 [2, 2, 2]],\n",
    "                [[3, 3, 3], \n",
    "                 [4, 4, 4]],\n",
    "                [[5, 5, 5], \n",
    "                 [6, 6, 6]]])\n",
    "x = tf.constant(arr)\n",
    "out = tf.slice(x, [1, 0, 0], [1, 2, 3])\n",
    "print out.eval()\n",
    "assert np.allclose(out.eval(), arr[1, :, :])"
   ]
  },
  {
   "cell_type": "markdown",
   "metadata": {},
   "source": [
    "Q15. Let x be a tensor of<br/>\n",
    "[[ 1  2]<br />\n",
    " [ 3  4]<br />\n",
    " [ 5  6]<br />\n",
    " [ 7  8]<br />\n",
    " [ 9 10]].<br />\n",
    " Extract the [[1, 2], [5, 6], [9, 10]]] from x."
   ]
  },
  {
   "cell_type": "code",
   "execution_count": 54,
   "metadata": {
    "collapsed": false
   },
   "outputs": [
    {
     "name": "stdout",
     "output_type": "stream",
     "text": [
      "[[ 1  2]\n",
      " [ 5  6]\n",
      " [ 9 10]]\n"
     ]
    }
   ],
   "source": [
    "x = tf.reshape(tf.range(1, 11), [5, 2])\n",
    "out = tf.strided_slice(x, [0], [5], [2])\n",
    "print out.eval()\n",
    "arr = np.reshape(np.arange(1, 11), [5, 2])\n",
    "assert np.allclose(out.eval(), arr[[0, 2, 4]])"
   ]
  },
  {
   "cell_type": "markdown",
   "metadata": {},
   "source": [
    "Q16. Let x be a tensor of<br/>\n",
    "[[ 1  2  3  4  5]<br />\n",
    " [ 6  7  8  9  10]].<br />\n",
    "Split x into 5 tensors along the second dimension."
   ]
  },
  {
   "cell_type": "code",
   "execution_count": 69,
   "metadata": {
    "collapsed": false
   },
   "outputs": [
    {
     "name": "stdout",
     "output_type": "stream",
     "text": [
      "[array([[1],\n",
      "       [6]], dtype=int32), array([[2],\n",
      "       [7]], dtype=int32), array([[3],\n",
      "       [8]], dtype=int32), array([[4],\n",
      "       [9]], dtype=int32), array([[ 5],\n",
      "       [10]], dtype=int32)]\n"
     ]
    }
   ],
   "source": [
    "x = tf.reshape(tf.range(1, 11), [2, 5])\n",
    "out = tf.split(1, 5, x)\n",
    "print [each.eval() for each in out]\n",
    "arr = np.reshape(np.arange(1, 11), [2, 5])\n",
    "comp = np.array_split(arr, 5, 1)\n",
    "assert np.allclose([each.eval() for each in out], comp)"
   ]
  },
  {
   "cell_type": "markdown",
   "metadata": {},
   "source": [
    "Q17. Lex X be a tensor<br/>\n",
    "[[ 1 2 3]<br/>\n",
    " [ 4 5 6].<br/>\n",
    "Create a tensor looking like <br/>\n",
    "[[ 1 2 3 1 2 3 1 2 3 ]<br/>\n",
    " [ 4 5 6 4 5 6 4 5 6 ]]."
   ]
  },
  {
   "cell_type": "code",
   "execution_count": 71,
   "metadata": {
    "collapsed": false
   },
   "outputs": [
    {
     "name": "stdout",
     "output_type": "stream",
     "text": [
      "[[1 2 3 1 2 3 1 2 3]\n",
      " [4 5 6 4 5 6 4 5 6]]\n"
     ]
    }
   ],
   "source": [
    "x = tf.reshape(tf.range(1, 7), [2, 3])\n",
    "out = tf.tile(x, [1, 3])\n",
    "print out.eval()\n",
    "arr = np.reshape(np.arange(1, 7), [2, 3])\n",
    "assert np.allclose(out.eval(), np.tile(arr, [1, 3]))"
   ]
  },
  {
   "cell_type": "markdown",
   "metadata": {},
   "source": [
    "Q18. Lex x be a tensor <br/>\n",
    "[[ 1 2 3]<br/>\n",
    " [ 4 5 6].<br/>\n",
    "Pad 2 * 0's before the first dimension, 3 * 0's after the second dimension."
   ]
  },
  {
   "cell_type": "code",
   "execution_count": 83,
   "metadata": {
    "collapsed": false
   },
   "outputs": [
    {
     "name": "stdout",
     "output_type": "stream",
     "text": [
      "[[0 0 0 0 0 0]\n",
      " [0 0 0 0 0 0]\n",
      " [1 2 3 0 0 0]\n",
      " [4 5 6 0 0 0]]\n"
     ]
    }
   ],
   "source": [
    "x = tf.reshape(tf.range(1, 7), [2, 3])\n",
    "out = tf.pad(x, [[2, 0], [0, 3]])\n",
    "print out.eval()\n",
    "arr = np.reshape(np.arange(1, 7), [2, 3])\n",
    "assert np.allclose(out.eval(), np.pad(arr, [[2, 0], [0, 3]], 'constant', constant_values=[0, 0]))"
   ]
  },
  {
   "cell_type": "markdown",
   "metadata": {},
   "source": [
    "Q19. Lex x be a tensor <br/>\n",
    "[[ 1 2 3]<br/>\n",
    " [ 4 5 6].<br/>\n",
    "and y be a tensor<br/>\n",
    "[[ 7 8 9]<br/>\n",
    " [10 11 12]].<br/>\n",
    "Concatenate x and y so that a new tensor looks like [[1, 2, 3, 7, 8, 9], [4, 5, 6, 10, 11, 12]]."
   ]
  },
  {
   "cell_type": "code",
   "execution_count": 88,
   "metadata": {
    "collapsed": false
   },
   "outputs": [
    {
     "name": "stdout",
     "output_type": "stream",
     "text": [
      "[[ 1  2  3  7  8  9]\n",
      " [ 4  5  6 10 11 12]]\n"
     ]
    }
   ],
   "source": [
    "arr1 = np.array([[1, 2, 3], [4, 5, 6]])\n",
    "arr2 = np.array([[7, 8, 9], [10, 11, 12]])\n",
    "x = tf.constant(arr1)\n",
    "y = tf.constant(arr2)\n",
    "out = tf.concat(1, [x, y])\n",
    "print out.eval()\n",
    "assert np.allclose(out.eval(), np.concatenate((arr1, arr2), 1))"
   ]
  },
  {
   "cell_type": "markdown",
   "metadata": {},
   "source": [
    "Q20. Let x be  a tensor [1, 4], y be a tensor [2, 5], and z be  a tensor [3, 6]. <br/>Create a single tensor from these such that it looks [[1, 2, 3], [4, 5, 6]]."
   ]
  },
  {
   "cell_type": "code",
   "execution_count": 89,
   "metadata": {
    "collapsed": false
   },
   "outputs": [
    {
     "name": "stdout",
     "output_type": "stream",
     "text": [
      "[[1 2 3]\n",
      " [4 5 6]]\n"
     ]
    }
   ],
   "source": [
    "x = tf.constant([1, 4])\n",
    "y = tf.constant([2, 5])\n",
    "z = tf.constant([3, 6])\n",
    "out = tf.pack([x, y, z], 1)\n",
    "print out.eval()"
   ]
  },
  {
   "cell_type": "markdown",
   "metadata": {},
   "source": [
    "Q21. Let x be a tensor [[1, 2, 3], [4, 5, 6]]. Convert X into Y such that Y looks like [[1, 4], [2, 5], [3, 6]]."
   ]
  },
  {
   "cell_type": "code",
   "execution_count": 92,
   "metadata": {
    "collapsed": false
   },
   "outputs": [
    {
     "name": "stdout",
     "output_type": "stream",
     "text": [
      "[array([1, 4], dtype=int32), array([2, 5], dtype=int32), array([3, 6], dtype=int32)]\n"
     ]
    }
   ],
   "source": [
    "x = tf.constant([[1, 2, 3], [4, 5, 6]])\n",
    "out = tf.unpack(x, axis=1)\n",
    "print [each.eval() for each in out]"
   ]
  },
  {
   "cell_type": "markdown",
   "metadata": {},
   "source": [
    "Q22. Let X = tf.resahpe(tf.range(1, 1*2*3*4+1), [1, 2, 3, 4]). Reverse the last dimension."
   ]
  },
  {
   "cell_type": "code",
   "execution_count": 98,
   "metadata": {
    "collapsed": false
   },
   "outputs": [
    {
     "name": "stdout",
     "output_type": "stream",
     "text": [
      "[[[[ 4  3  2  1]\n",
      "   [ 8  7  6  5]\n",
      "   [12 11 10  9]]\n",
      "\n",
      "  [[16 15 14 13]\n",
      "   [20 19 18 17]\n",
      "   [24 23 22 21]]]]\n"
     ]
    }
   ],
   "source": [
    "X = tf.reshape(tf.range(1, 1*2*3*4+1), [1, 2, 3, 4])\n",
    "out = tf.reverse(X, [False, False, False, True])\n",
    "print out.eval()\n",
    "arr = np.reshape(np.arange(1, 1*2*3*4+1), [1, 2, 3, 4])\n",
    "assert np.allclose(out.eval(), arr[:, :, :, ::-1])"
   ]
  },
  {
   "cell_type": "markdown",
   "metadata": {},
   "source": [
    "Q22. Let x = tf.constant([[1, 2, 3], [4, 5, 6]]). Transpose x."
   ]
  },
  {
   "cell_type": "code",
   "execution_count": 102,
   "metadata": {
    "collapsed": false
   },
   "outputs": [
    {
     "name": "stdout",
     "output_type": "stream",
     "text": [
      "[[1 4]\n",
      " [2 5]\n",
      " [3 6]]\n"
     ]
    }
   ],
   "source": [
    "x = tf.constant([[1, 2, 3], [4, 5, 6]])\n",
    "out = tf.transpose(x)\n",
    "print out.eval()\n",
    "arr = np.array([[1, 2, 3], [4, 5, 6]])\n",
    "assert np.allclose(out.eval(), np.transpose(arr))"
   ]
  },
  {
   "cell_type": "markdown",
   "metadata": {},
   "source": [
    "Q23. Let x be a tensor [[1, 2, 3], [4, 5, 6], [7, 8, 9]]. Get the first, and third rows."
   ]
  },
  {
   "cell_type": "code",
   "execution_count": 108,
   "metadata": {
    "collapsed": false
   },
   "outputs": [
    {
     "name": "stdout",
     "output_type": "stream",
     "text": [
      "[[1 2 3]\n",
      " [7 8 9]]\n"
     ]
    }
   ],
   "source": [
    "x = tf.constant([[1, 2, 3], [4, 5, 6], [7, 8, 9]])\n",
    "out1 = tf.gather(x, [0, 2])\n",
    "out2 = tf.gather_nd(x, [[0], [2]])\n",
    "assert np.allclose(out1.eval(), out2.eval())\n",
    "print out1.eval()\n",
    "arr = np.array([[1, 2, 3], [4, 5, 6], [7, 8, 9]])\n",
    "assert np.allclose(out1.eval(), arr[[0, 2]])"
   ]
  },
  {
   "cell_type": "markdown",
   "metadata": {},
   "source": [
    "Q24. Let x be a tensor [[1, 2, 3], [4, 5, 6], [7, 8, 9]]. Get the 5 and 7."
   ]
  },
  {
   "cell_type": "code",
   "execution_count": 110,
   "metadata": {
    "collapsed": false
   },
   "outputs": [
    {
     "name": "stdout",
     "output_type": "stream",
     "text": [
      "[5 7]\n"
     ]
    }
   ],
   "source": [
    "x = tf.constant([[1, 2, 3], [4, 5, 6], [7, 8, 9]])\n",
    "out = tf.gather_nd(x, [[1, 1], [2, 0]])\n",
    "print out.eval()\n",
    "arr = np.array([[1, 2, 3], [4, 5, 6], [7, 8, 9]])\n",
    "assert np.allclose(out.eval(), arr[[1, 2], [1, 0]])"
   ]
  },
  {
   "cell_type": "markdown",
   "metadata": {},
   "source": [
    "Q25. Let x be a tensor [2, 2, 1, 5, 4, 5, 1, 2, 3]. Get the tensors of unique elements and their counts."
   ]
  },
  {
   "cell_type": "code",
   "execution_count": 111,
   "metadata": {
    "collapsed": false
   },
   "outputs": [
    {
     "name": "stdout",
     "output_type": "stream",
     "text": [
      "[2 1 5 4 3] [3 2 2 1 1]\n"
     ]
    }
   ],
   "source": [
    "x = tf.constant([2, 2, 1, 5, 4, 5, 1, 2, 3])\n",
    "out1, _, out2 = tf.unique_with_counts(x)\n",
    "print out1.eval(), out2.eval()"
   ]
  },
  {
   "cell_type": "markdown",
   "metadata": {},
   "source": [
    "Q26. Let x be a tensor [1, 2, 3, 4, 5]. Divide the elements of x into a list of tensors that looks like [[3, 5], [1], [2, 4]]."
   ]
  },
  {
   "cell_type": "code",
   "execution_count": 118,
   "metadata": {
    "collapsed": false
   },
   "outputs": [
    {
     "name": "stdout",
     "output_type": "stream",
     "text": [
      "[array([3, 5], dtype=int32), array([1], dtype=int32), array([2, 4], dtype=int32)]\n"
     ]
    }
   ],
   "source": [
    "x = tf.constant([1, 2, 3, 4, 5])\n",
    "out = tf.dynamic_partition(x, [1, 2, 0, 2, 0], 3)\n",
    "print [each.eval() for each in out]"
   ]
  },
  {
   "cell_type": "markdown",
   "metadata": {},
   "source": [
    "Q27. Let x be a tensor [[7, 8], [5, 6]] and y be a tensor [[1, 2], [3, 4]]. Create a single tensor looking like [[1, 2], [3, 4], [5, 6], [7, 8]]."
   ]
  },
  {
   "cell_type": "code",
   "execution_count": 119,
   "metadata": {
    "collapsed": false
   },
   "outputs": [
    {
     "name": "stdout",
     "output_type": "stream",
     "text": [
      "[[1 2]\n",
      " [3 4]\n",
      " [5 6]\n",
      " [7 8]]\n"
     ]
    }
   ],
   "source": [
    "x = tf.constant([[7, 8], [5, 6]])\n",
    "y = tf.constant([[1, 2], [3, 4]])\n",
    "out = tf.dynamic_stitch([[3, 2], [0, 1]], [x, y])\n",
    "print out.eval()"
   ]
  },
  {
   "cell_type": "markdown",
   "metadata": {},
   "source": [
    "Q28. Let x be a tensor [0, 1, 2, 3] and y be a tensor [True, False, False, True].<br/>\n",
    "Apply mask y to x."
   ]
  },
  {
   "cell_type": "code",
   "execution_count": 123,
   "metadata": {
    "collapsed": false
   },
   "outputs": [
    {
     "name": "stdout",
     "output_type": "stream",
     "text": [
      "[0 3]\n"
     ]
    }
   ],
   "source": [
    "x = tf.constant([0, 1, 2, 3])\n",
    "y = tf.constant([True, False, False, True])\n",
    "out = tf.boolean_mask(x, y)\n",
    "print out.eval()\n",
    "arr1 = np.array([0, 1, 2, 3])\n",
    "arr2 = np.array([True, False, False, True])\n",
    "assert np.allclose(out.eval(), arr1[arr2])"
   ]
  },
  {
   "cell_type": "markdown",
   "metadata": {},
   "source": [
    "Q29. Let x be a tensor [[0, 5, 3], [4, 2, 1]]. Convert x into one-hot."
   ]
  },
  {
   "cell_type": "code",
   "execution_count": 126,
   "metadata": {
    "collapsed": false
   },
   "outputs": [
    {
     "name": "stdout",
     "output_type": "stream",
     "text": [
      "[[[ 1.  0.  0.  0.  0.  0.]\n",
      "  [ 0.  0.  0.  0.  0.  1.]\n",
      "  [ 0.  0.  0.  1.  0.  0.]]\n",
      "\n",
      " [[ 0.  0.  0.  0.  1.  0.]\n",
      "  [ 0.  0.  1.  0.  0.  0.]\n",
      "  [ 0.  1.  0.  0.  0.  0.]]]\n"
     ]
    }
   ],
   "source": [
    "x = tf.constant([[0, 5, 3], [4, 2, 1]])\n",
    "out = tf.one_hot(x, 6)\n",
    "print out.eval()"
   ]
  },
  {
   "cell_type": "code",
   "execution_count": null,
   "metadata": {
    "collapsed": true
   },
   "outputs": [],
   "source": []
  }
 ],
 "metadata": {
  "kernelspec": {
   "display_name": "Python 2",
   "language": "python",
   "name": "python2"
  },
  "language_info": {
   "codemirror_mode": {
    "name": "ipython",
    "version": 2
   },
   "file_extension": ".py",
   "mimetype": "text/x-python",
   "name": "python",
   "nbconvert_exporter": "python",
   "pygments_lexer": "ipython2",
   "version": "2.7.6"
  }
 },
 "nbformat": 4,
 "nbformat_minor": 0
}
