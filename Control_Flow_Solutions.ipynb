{
 "cells": [
  {
   "cell_type": "markdown",
   "metadata": {},
   "source": [
    "# Control Flow"
   ]
  },
  {
   "cell_type": "code",
   "execution_count": 1,
   "metadata": {
    "collapsed": true
   },
   "outputs": [],
   "source": [
    "import tensorflow as tf\n",
    "import numpy as np"
   ]
  },
  {
   "cell_type": "code",
   "execution_count": 2,
   "metadata": {
    "collapsed": false
   },
   "outputs": [
    {
     "name": "stdout",
     "output_type": "stream",
     "text": [
      "0.10.0\n",
      "1.11.1\n"
     ]
    }
   ],
   "source": [
    "print tf.__version__\n",
    "print np.__version__"
   ]
  },
  {
   "cell_type": "code",
   "execution_count": 3,
   "metadata": {
    "collapsed": true
   },
   "outputs": [],
   "source": [
    "sess = tf.InteractiveSession()"
   ]
  },
  {
   "cell_type": "markdown",
   "metadata": {},
   "source": [
    "Q1. Let x and y be random 0-D tensors. Return x + y \n",
    "if x < y and x - y otherwise."
   ]
  },
  {
   "cell_type": "code",
   "execution_count": 37,
   "metadata": {
    "collapsed": false
   },
   "outputs": [
    {
     "name": "stdout",
     "output_type": "stream",
     "text": [
      "0.469627\n"
     ]
    }
   ],
   "source": [
    "x = tf.random_uniform([])\n",
    "y = tf.random_uniform([])\n",
    "out = tf.cond(tf.less(x, y), lambda: tf.add(x, y), lambda: tf.sub(x, y))\n",
    "print out.eval()"
   ]
  },
  {
   "cell_type": "markdown",
   "metadata": {},
   "source": [
    "Q2. Let x and y be 0-D int tensors randomly selected from 0 to 5. Return x + y 2 if x < y, x - y elif x > y, 0 otherwise."
   ]
  },
  {
   "cell_type": "code",
   "execution_count": 11,
   "metadata": {
    "collapsed": false
   },
   "outputs": [
    {
     "name": "stdout",
     "output_type": "stream",
     "text": [
      "1\n"
     ]
    }
   ],
   "source": [
    "x = tf.random_uniform([], minval=0, maxval=5, dtype=tf.int32)\n",
    "y = tf.random_uniform([], minval=0, maxval=5, dtype=tf.int32)\n",
    "out = tf.case({tf.less(x, y): lambda: tf.add(x, y), tf.greater(x, y): lambda: tf.sub(x, y)}, default=lambda: tf.constant(0), exclusive=True)\n",
    "print out.eval()"
   ]
  },
  {
   "cell_type": "code",
   "execution_count": 41,
   "metadata": {
    "collapsed": false
   },
   "outputs": [
    {
     "data": {
      "text/plain": [
       "array(4)"
      ]
     },
     "execution_count": 41,
     "metadata": {},
     "output_type": "execute_result"
    }
   ],
   "source": [
    "# Compare\n",
    "x = np.random.randint(0, 5)\n",
    "y = np.random.randint(0, 5)\n",
    "out = np.select([x > y, x < y, x == y], [x + y, x - y, 0])\n",
    "out"
   ]
  },
  {
   "cell_type": "markdown",
   "metadata": {},
   "source": [
    "Q3. Let x be a tensor [[-1, -2, -3], [0, 1, 2]] and y be a tensor of zeros with the same shape as x. Return a boolean tensor that yields Trues if x equals y elementwise."
   ]
  },
  {
   "cell_type": "code",
   "execution_count": 44,
   "metadata": {
    "collapsed": false
   },
   "outputs": [
    {
     "name": "stdout",
     "output_type": "stream",
     "text": [
      "[[False False False]\n",
      " [ True False False]]\n"
     ]
    }
   ],
   "source": [
    "x = tf.constant( [[-1, -2, -3], [0, 1, 2]] )\n",
    "y = tf.zeros_like(x)\n",
    "out = tf.equal(x, y)\n",
    "print out.eval()\n",
    "arr1 = np.array([[-1, -2, -3], [0, 1, 2]])\n",
    "arr2 = np.zeros_like(x)\n",
    "assert np.allclose(out.eval(), np.equal(arr1, arr2))"
   ]
  },
  {
   "cell_type": "markdown",
   "metadata": {},
   "source": [
    "Q4. Let x be a tensor [[-1, -2, -3], [0, 1, 2]] and y be a tensor of zeros with the same shape as x. Return a boolean tensor that yields Trues if x does not equal y elementwise."
   ]
  },
  {
   "cell_type": "code",
   "execution_count": 45,
   "metadata": {
    "collapsed": false
   },
   "outputs": [
    {
     "name": "stdout",
     "output_type": "stream",
     "text": [
      "[[ True  True  True]\n",
      " [False  True  True]]\n"
     ]
    }
   ],
   "source": [
    "x = tf.constant( [[-1, -2, -3], [0, 1, 2]] )\n",
    "y = tf.zeros_like(x)\n",
    "out = tf.not_equal(x, y)\n",
    "print out.eval()\n",
    "arr1 = np.array([[-1, -2, -3], [0, 1, 2]])\n",
    "arr2 = np.zeros_like(x)\n",
    "assert np.allclose(out.eval(), np.not_equal(arr1, arr2))"
   ]
  },
  {
   "cell_type": "markdown",
   "metadata": {},
   "source": [
    "Q5. Let x be a tensor [[-1, -2, -3], [0, 1, 2]] and y be a tensor of zeros with the same shape as x. Return a boolean tensor that yields Trues if x is greater than or equal to y elementwise."
   ]
  },
  {
   "cell_type": "code",
   "execution_count": 46,
   "metadata": {
    "collapsed": false
   },
   "outputs": [
    {
     "name": "stdout",
     "output_type": "stream",
     "text": [
      "[[False False False]\n",
      " [ True  True  True]]\n"
     ]
    }
   ],
   "source": [
    "x = tf.constant( [[-1, -2, -3], [0, 1, 2]] )\n",
    "y = tf.zeros_like(x)\n",
    "out = tf.greater_equal(x, y)\n",
    "out2 = tf.logical_not(tf.less(x, y))\n",
    "assert np.allclose(out.eval(), out2.eval())\n",
    "print out.eval()\n",
    "arr1 = np.array([[-1, -2, -3], [0, 1, 2]])\n",
    "arr2 = np.zeros_like(x)\n",
    "assert np.allclose(out.eval(), np.greater_equal(arr1, arr2))\n"
   ]
  },
  {
   "cell_type": "markdown",
   "metadata": {},
   "source": [
    "Q6. Let x be a tensor [[-1, -2, -3], [0, 1, 2]] and y be a tensor of zeros with the same shape as x. Return a boolean tensor that yields Trues if x is less than or equal to y elementwise.\n"
   ]
  },
  {
   "cell_type": "code",
   "execution_count": 47,
   "metadata": {
    "collapsed": false
   },
   "outputs": [
    {
     "name": "stdout",
     "output_type": "stream",
     "text": [
      "[[ True  True  True]\n",
      " [ True False False]]\n"
     ]
    }
   ],
   "source": [
    "x = tf.constant( [[-1, -2, -3], [0, 1, 2]] )\n",
    "y = tf.zeros_like(x)\n",
    "out = tf.less_equal(x, y)\n",
    "print out.eval()\n",
    "arr1 = np.array([[-1, -2, -3], [0, 1, 2]])\n",
    "arr2 = np.zeros_like(x)\n",
    "assert np.allclose(out.eval(), np.less_equal(arr1, arr2))"
   ]
  },
  {
   "cell_type": "markdown",
   "metadata": {},
   "source": [
    "Q7. Let x be a 0-D tensor randomly selected from -5 to 5. Return a boolean tensor that yields Trues if x is less than 3 and x is greater than 0.\n"
   ]
  },
  {
   "cell_type": "code",
   "execution_count": 49,
   "metadata": {
    "collapsed": false
   },
   "outputs": [
    {
     "name": "stdout",
     "output_type": "stream",
     "text": [
      "True\n"
     ]
    }
   ],
   "source": [
    "x = tf.random_uniform([], minval=-5, maxval=5)\n",
    "out = tf.logical_and(x < 3, x > 0)\n",
    "print out.eval()\n",
    "arr = np.random.uniform(-5, 5)\n",
    "assert np.allclose(out.eval(), np.logical_and(arr < 3, arr > 0))\n"
   ]
  },
  {
   "cell_type": "markdown",
   "metadata": {},
   "source": [
    "Q8. Let x be a tensor [[1, 2], [3, 4]], y be a tensor [[5, 6], [7, 8]], and z be a boolean tensor [[True, False], [False, True]]. Create a 2*2 tensor such that each element corresponds to x if True, otherise y."
   ]
  },
  {
   "cell_type": "code",
   "execution_count": 51,
   "metadata": {
    "collapsed": false
   },
   "outputs": [
    {
     "name": "stdout",
     "output_type": "stream",
     "text": [
      "[[1 6]\n",
      " [7 4]]\n"
     ]
    }
   ],
   "source": [
    "x = tf.constant([[1, 2], [3, 4]])\n",
    "y = tf.constant([[5, 6], [7, 8]])\n",
    "z = tf.constant([[True, False], [False, True]])\n",
    "out = tf.select(z, x, y)\n",
    "print out.eval()\n"
   ]
  },
  {
   "cell_type": "markdown",
   "metadata": {},
   "source": [
    "Q9. Let x be a tensor [1, 2, 3, ..., 100]. Extract elements of x greater than 30."
   ]
  },
  {
   "cell_type": "code",
   "execution_count": 75,
   "metadata": {
    "collapsed": false
   },
   "outputs": [
    {
     "name": "stdout",
     "output_type": "stream",
     "text": [
      "[ 31  32  33  34  35  36  37  38  39  40  41  42  43  44  45  46  47  48\n",
      "  49  50  51  52  53  54  55  56  57  58  59  60  61  62  63  64  65  66\n",
      "  67  68  69  70  71  72  73  74  75  76  77  78  79  80  81  82  83  84\n",
      "  85  86  87  88  89  90  91  92  93  94  95  96  97  98  99 100]\n"
     ]
    }
   ],
   "source": [
    "x = tf.range(1, 101)\n",
    "out = tf.gather_nd(x, tf.where(x > 30))\n",
    "print out.eval()\n",
    "arr = np.arange(1, 101)\n",
    "assert np.allclose(out.eval(), arr[arr > 30])"
   ]
  },
  {
   "cell_type": "code",
   "execution_count": null,
   "metadata": {
    "collapsed": true
   },
   "outputs": [],
   "source": []
  }
 ],
 "metadata": {
  "kernelspec": {
   "display_name": "Python 2",
   "language": "python",
   "name": "python2"
  },
  "language_info": {
   "codemirror_mode": {
    "name": "ipython",
    "version": 2
   },
   "file_extension": ".py",
   "mimetype": "text/x-python",
   "name": "python",
   "nbconvert_exporter": "python",
   "pygments_lexer": "ipython2",
   "version": "2.7.6"
  }
 },
 "nbformat": 4,
 "nbformat_minor": 0
}
